{
 "cells": [
  {
   "cell_type": "raw",
   "id": "789d51bf",
   "metadata": {},
   "source": [
    "Q-1. Write an SQL query to print details of the Workers who have joined in Feb’2014.\n",
    "ans- Select * from Worker where year(JOINING_DATE) = 2014 and month(JOINING_DATE) = 2;\n"
   ]
  },
  {
   "cell_type": "raw",
   "id": "0def82dc",
   "metadata": {},
   "source": [
    "Q-2. Write an SQL query to fetch duplicate records having matching data in some fields of\n",
    "a table.\n",
    "ans- SELECT WORKER_TITLE, AFFECTED_FROM, COUNT(*)\n",
    "     FROM Title\n",
    "     GROUP BY WORKER_TITLE, AFFECTED_FROM\n",
    "     HAVING COUNT(*) > 1;"
   ]
  },
  {
   "cell_type": "code",
   "execution_count": null,
   "id": "adb7fb51",
   "metadata": {},
   "outputs": [],
   "source": [
    "Q-3. How to remove duplicate rows from Employees table.\n",
    "ans- SELECT [FirstName], \n",
    "    [LastName], \n",
    "    [Country], \n",
    "    COUNT(*) AS CNT\n",
    "FROM [SampleDB].[dbo].[Employee]\n",
    "GROUP BY [FirstName], \n",
    "      [LastName], \n",
    "      [Country]\n",
    "HAVING COUNT(*) > 1;"
   ]
  }
 ],
 "metadata": {
  "kernelspec": {
   "display_name": "Python 3 (ipykernel)",
   "language": "python",
   "name": "python3"
  },
  "language_info": {
   "codemirror_mode": {
    "name": "ipython",
    "version": 3
   },
   "file_extension": ".py",
   "mimetype": "text/x-python",
   "name": "python",
   "nbconvert_exporter": "python",
   "pygments_lexer": "ipython3",
   "version": "3.9.7"
  }
 },
 "nbformat": 4,
 "nbformat_minor": 5
}
